{
 "cells": [
  {
   "cell_type": "code",
   "execution_count": null,
   "id": "b304821e-510d-4a46-8839-0144540fda92",
   "metadata": {
    "id": "2bde61c7-8983-4b26-8d4b-3169a1bf37b7"
   },
   "outputs": [],
   "source": []
  }
 ],
 "metadata": {
  "kernelspec": {
   "display_name": "Python 3.11 with Spark",
   "language": "python3",
   "name": "python311"
  },
  "language_info": {
   "codemirror_mode": {
    "name": "ipython",
    "version": 3
   },
   "file_extension": ".py",
   "mimetype": "text/x-python",
   "name": "python",
   "nbconvert_exporter": "python",
   "pygments_lexer": "ipython3",
   "version": "3.11.9"
  }
 },
 "nbformat": 4,
 "nbformat_minor": 5
}
