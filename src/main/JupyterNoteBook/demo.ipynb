{
 "cells": [
  {
   "cell_type": "code",
   "id": "initial_id",
   "metadata": {
    "collapsed": true,
    "ExecuteTime": {
     "end_time": "2025-03-19T08:09:56.611657Z",
     "start_time": "2025-03-19T08:09:56.607933Z"
    }
   },
   "source": [
    "from pathlib import Path\n",
    "\n",
    "# Đường dẫn bạn muốn kiểm tra\n",
    "cert_path = str(Path('/resources/cp4d_cert.pem'))\n",
    "print({cert_path})"
   ],
   "outputs": [
    {
     "name": "stdout",
     "output_type": "stream",
     "text": [
      "{'\\\\resources\\\\cp4d_cert.pem'}\n"
     ]
    }
   ],
   "execution_count": 1
  }
 ],
 "metadata": {
  "kernelspec": {
   "display_name": "Python 3",
   "language": "python",
   "name": "python3"
  },
  "language_info": {
   "codemirror_mode": {
    "name": "ipython",
    "version": 2
   },
   "file_extension": ".py",
   "mimetype": "text/x-python",
   "name": "python",
   "nbconvert_exporter": "python",
   "pygments_lexer": "ipython2",
   "version": "2.7.6"
  }
 },
 "nbformat": 4,
 "nbformat_minor": 5
}
